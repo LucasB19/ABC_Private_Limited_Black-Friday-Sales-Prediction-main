{
 "cells": [
  {
   "cell_type": "markdown",
   "id": "c85f29a0",
   "metadata": {},
   "source": [
    "# Machine Learning Model Optimization Project for ABC Private Limited"
   ]
  },
  {
   "cell_type": "code",
   "execution_count": 48,
   "id": "9cc941e2",
   "metadata": {},
   "outputs": [],
   "source": [
    "# Necessary library imports\n",
    "\n",
    "import numpy as np\n",
    "import pandas as pd\n",
    "import matplotlib.pyplot as plt\n",
    "import seaborn as sns\n",
    "from sklearn.model_selection import train_test_split\n",
    "from sklearn.preprocessing import LabelEncoder\n",
    "from sklearn.linear_model import LinearRegression\n",
    "from sklearn.tree import DecisionTreeRegressor\n",
    "from sklearn.ensemble import RandomForestRegressor\n",
    "from xgboost import XGBRegressor\n",
    "from xgboost.sklearn import XGBRegressor\n",
    "import xgboost as xgb\n",
    "from sklearn.metrics import mean_absolute_error, mean_squared_error, r2_score\n",
    "from math import sqrt\n",
    "from matplotlib.ticker import FormatStrFormatter\n",
    "from sklearn.model_selection import GridSearchCV\n",
    "from sklearn.decomposition import PCA\n",
    "from sklearn.preprocessing import StandardScaler\n",
    "\n"
   ]
  },
  {
   "cell_type": "code",
   "execution_count": 2,
   "id": "697424ab",
   "metadata": {},
   "outputs": [],
   "source": [
    "# Loading the data\n",
    "data_path = r\"/Users/greenwood/Black-Friday-Sales-Prediction-main/Data/BlackFridaySales.csv\"\n",
    "df = pd.read_csv(data_path)"
   ]
  },
  {
   "cell_type": "code",
   "execution_count": 3,
   "id": "d49041fb",
   "metadata": {},
   "outputs": [
    {
     "name": "stdout",
     "output_type": "stream",
     "text": [
      "\n",
      "Basic Information of Dataset:\n",
      "\n",
      "<class 'pandas.core.frame.DataFrame'>\n",
      "RangeIndex: 550068 entries, 0 to 550067\n",
      "Data columns (total 12 columns):\n",
      " #   Column                      Non-Null Count   Dtype  \n",
      "---  ------                      --------------   -----  \n",
      " 0   User_ID                     550068 non-null  int64  \n",
      " 1   Product_ID                  550068 non-null  object \n",
      " 2   Gender                      550068 non-null  object \n",
      " 3   Age                         550068 non-null  object \n",
      " 4   Occupation                  550068 non-null  int64  \n",
      " 5   City_Category               550068 non-null  object \n",
      " 6   Stay_In_Current_City_Years  550068 non-null  object \n",
      " 7   Marital_Status              550068 non-null  int64  \n",
      " 8   Product_Category_1          550068 non-null  int64  \n",
      " 9   Product_Category_2          376430 non-null  float64\n",
      " 10  Product_Category_3          166821 non-null  float64\n",
      " 11  Purchase                    550068 non-null  int64  \n",
      "dtypes: float64(2), int64(5), object(5)\n",
      "memory usage: 50.4+ MB\n"
     ]
    },
    {
     "data": {
      "text/plain": [
       "None"
      ]
     },
     "metadata": {},
     "output_type": "display_data"
    },
    {
     "name": "stdout",
     "output_type": "stream",
     "text": [
      "\n",
      "First 5 Rows of Dataset:\n"
     ]
    },
    {
     "data": {
      "text/html": [
       "<div>\n",
       "<style scoped>\n",
       "    .dataframe tbody tr th:only-of-type {\n",
       "        vertical-align: middle;\n",
       "    }\n",
       "\n",
       "    .dataframe tbody tr th {\n",
       "        vertical-align: top;\n",
       "    }\n",
       "\n",
       "    .dataframe thead th {\n",
       "        text-align: right;\n",
       "    }\n",
       "</style>\n",
       "<table border=\"1\" class=\"dataframe\">\n",
       "  <thead>\n",
       "    <tr style=\"text-align: right;\">\n",
       "      <th></th>\n",
       "      <th>User_ID</th>\n",
       "      <th>Product_ID</th>\n",
       "      <th>Gender</th>\n",
       "      <th>Age</th>\n",
       "      <th>Occupation</th>\n",
       "      <th>City_Category</th>\n",
       "      <th>Stay_In_Current_City_Years</th>\n",
       "      <th>Marital_Status</th>\n",
       "      <th>Product_Category_1</th>\n",
       "      <th>Product_Category_2</th>\n",
       "      <th>Product_Category_3</th>\n",
       "      <th>Purchase</th>\n",
       "    </tr>\n",
       "  </thead>\n",
       "  <tbody>\n",
       "    <tr>\n",
       "      <th>0</th>\n",
       "      <td>1000001</td>\n",
       "      <td>P00069042</td>\n",
       "      <td>F</td>\n",
       "      <td>0-17</td>\n",
       "      <td>10</td>\n",
       "      <td>A</td>\n",
       "      <td>2</td>\n",
       "      <td>0</td>\n",
       "      <td>3</td>\n",
       "      <td>NaN</td>\n",
       "      <td>NaN</td>\n",
       "      <td>8370</td>\n",
       "    </tr>\n",
       "    <tr>\n",
       "      <th>1</th>\n",
       "      <td>1000001</td>\n",
       "      <td>P00248942</td>\n",
       "      <td>F</td>\n",
       "      <td>0-17</td>\n",
       "      <td>10</td>\n",
       "      <td>A</td>\n",
       "      <td>2</td>\n",
       "      <td>0</td>\n",
       "      <td>1</td>\n",
       "      <td>6.0</td>\n",
       "      <td>14.0</td>\n",
       "      <td>15200</td>\n",
       "    </tr>\n",
       "    <tr>\n",
       "      <th>2</th>\n",
       "      <td>1000001</td>\n",
       "      <td>P00087842</td>\n",
       "      <td>F</td>\n",
       "      <td>0-17</td>\n",
       "      <td>10</td>\n",
       "      <td>A</td>\n",
       "      <td>2</td>\n",
       "      <td>0</td>\n",
       "      <td>12</td>\n",
       "      <td>NaN</td>\n",
       "      <td>NaN</td>\n",
       "      <td>1422</td>\n",
       "    </tr>\n",
       "    <tr>\n",
       "      <th>3</th>\n",
       "      <td>1000001</td>\n",
       "      <td>P00085442</td>\n",
       "      <td>F</td>\n",
       "      <td>0-17</td>\n",
       "      <td>10</td>\n",
       "      <td>A</td>\n",
       "      <td>2</td>\n",
       "      <td>0</td>\n",
       "      <td>12</td>\n",
       "      <td>14.0</td>\n",
       "      <td>NaN</td>\n",
       "      <td>1057</td>\n",
       "    </tr>\n",
       "    <tr>\n",
       "      <th>4</th>\n",
       "      <td>1000002</td>\n",
       "      <td>P00285442</td>\n",
       "      <td>M</td>\n",
       "      <td>55+</td>\n",
       "      <td>16</td>\n",
       "      <td>C</td>\n",
       "      <td>4+</td>\n",
       "      <td>0</td>\n",
       "      <td>8</td>\n",
       "      <td>NaN</td>\n",
       "      <td>NaN</td>\n",
       "      <td>7969</td>\n",
       "    </tr>\n",
       "  </tbody>\n",
       "</table>\n",
       "</div>"
      ],
      "text/plain": [
       "   User_ID Product_ID Gender   Age  Occupation City_Category  \\\n",
       "0  1000001  P00069042      F  0-17          10             A   \n",
       "1  1000001  P00248942      F  0-17          10             A   \n",
       "2  1000001  P00087842      F  0-17          10             A   \n",
       "3  1000001  P00085442      F  0-17          10             A   \n",
       "4  1000002  P00285442      M   55+          16             C   \n",
       "\n",
       "  Stay_In_Current_City_Years  Marital_Status  Product_Category_1  \\\n",
       "0                          2               0                   3   \n",
       "1                          2               0                   1   \n",
       "2                          2               0                  12   \n",
       "3                          2               0                  12   \n",
       "4                         4+               0                   8   \n",
       "\n",
       "   Product_Category_2  Product_Category_3  Purchase  \n",
       "0                 NaN                 NaN      8370  \n",
       "1                 6.0                14.0     15200  \n",
       "2                 NaN                 NaN      1422  \n",
       "3                14.0                 NaN      1057  \n",
       "4                 NaN                 NaN      7969  "
      ]
     },
     "metadata": {},
     "output_type": "display_data"
    },
    {
     "name": "stdout",
     "output_type": "stream",
     "text": [
      "\n",
      "Statistical Summary of Numerical Features:\n"
     ]
    },
    {
     "data": {
      "text/html": [
       "<div>\n",
       "<style scoped>\n",
       "    .dataframe tbody tr th:only-of-type {\n",
       "        vertical-align: middle;\n",
       "    }\n",
       "\n",
       "    .dataframe tbody tr th {\n",
       "        vertical-align: top;\n",
       "    }\n",
       "\n",
       "    .dataframe thead th {\n",
       "        text-align: right;\n",
       "    }\n",
       "</style>\n",
       "<table border=\"1\" class=\"dataframe\">\n",
       "  <thead>\n",
       "    <tr style=\"text-align: right;\">\n",
       "      <th></th>\n",
       "      <th>User_ID</th>\n",
       "      <th>Occupation</th>\n",
       "      <th>Marital_Status</th>\n",
       "      <th>Product_Category_1</th>\n",
       "      <th>Product_Category_2</th>\n",
       "      <th>Product_Category_3</th>\n",
       "      <th>Purchase</th>\n",
       "    </tr>\n",
       "  </thead>\n",
       "  <tbody>\n",
       "    <tr>\n",
       "      <th>count</th>\n",
       "      <td>5.500680e+05</td>\n",
       "      <td>550068.000000</td>\n",
       "      <td>550068.000000</td>\n",
       "      <td>550068.000000</td>\n",
       "      <td>376430.000000</td>\n",
       "      <td>166821.000000</td>\n",
       "      <td>550068.000000</td>\n",
       "    </tr>\n",
       "    <tr>\n",
       "      <th>mean</th>\n",
       "      <td>1.003029e+06</td>\n",
       "      <td>8.076707</td>\n",
       "      <td>0.409653</td>\n",
       "      <td>5.404270</td>\n",
       "      <td>9.842329</td>\n",
       "      <td>12.668243</td>\n",
       "      <td>9263.968713</td>\n",
       "    </tr>\n",
       "    <tr>\n",
       "      <th>std</th>\n",
       "      <td>1.727592e+03</td>\n",
       "      <td>6.522660</td>\n",
       "      <td>0.491770</td>\n",
       "      <td>3.936211</td>\n",
       "      <td>5.086590</td>\n",
       "      <td>4.125338</td>\n",
       "      <td>5023.065394</td>\n",
       "    </tr>\n",
       "    <tr>\n",
       "      <th>min</th>\n",
       "      <td>1.000001e+06</td>\n",
       "      <td>0.000000</td>\n",
       "      <td>0.000000</td>\n",
       "      <td>1.000000</td>\n",
       "      <td>2.000000</td>\n",
       "      <td>3.000000</td>\n",
       "      <td>12.000000</td>\n",
       "    </tr>\n",
       "    <tr>\n",
       "      <th>25%</th>\n",
       "      <td>1.001516e+06</td>\n",
       "      <td>2.000000</td>\n",
       "      <td>0.000000</td>\n",
       "      <td>1.000000</td>\n",
       "      <td>5.000000</td>\n",
       "      <td>9.000000</td>\n",
       "      <td>5823.000000</td>\n",
       "    </tr>\n",
       "    <tr>\n",
       "      <th>50%</th>\n",
       "      <td>1.003077e+06</td>\n",
       "      <td>7.000000</td>\n",
       "      <td>0.000000</td>\n",
       "      <td>5.000000</td>\n",
       "      <td>9.000000</td>\n",
       "      <td>14.000000</td>\n",
       "      <td>8047.000000</td>\n",
       "    </tr>\n",
       "    <tr>\n",
       "      <th>75%</th>\n",
       "      <td>1.004478e+06</td>\n",
       "      <td>14.000000</td>\n",
       "      <td>1.000000</td>\n",
       "      <td>8.000000</td>\n",
       "      <td>15.000000</td>\n",
       "      <td>16.000000</td>\n",
       "      <td>12054.000000</td>\n",
       "    </tr>\n",
       "    <tr>\n",
       "      <th>max</th>\n",
       "      <td>1.006040e+06</td>\n",
       "      <td>20.000000</td>\n",
       "      <td>1.000000</td>\n",
       "      <td>20.000000</td>\n",
       "      <td>18.000000</td>\n",
       "      <td>18.000000</td>\n",
       "      <td>23961.000000</td>\n",
       "    </tr>\n",
       "  </tbody>\n",
       "</table>\n",
       "</div>"
      ],
      "text/plain": [
       "            User_ID     Occupation  Marital_Status  Product_Category_1  \\\n",
       "count  5.500680e+05  550068.000000   550068.000000       550068.000000   \n",
       "mean   1.003029e+06       8.076707        0.409653            5.404270   \n",
       "std    1.727592e+03       6.522660        0.491770            3.936211   \n",
       "min    1.000001e+06       0.000000        0.000000            1.000000   \n",
       "25%    1.001516e+06       2.000000        0.000000            1.000000   \n",
       "50%    1.003077e+06       7.000000        0.000000            5.000000   \n",
       "75%    1.004478e+06      14.000000        1.000000            8.000000   \n",
       "max    1.006040e+06      20.000000        1.000000           20.000000   \n",
       "\n",
       "       Product_Category_2  Product_Category_3       Purchase  \n",
       "count       376430.000000       166821.000000  550068.000000  \n",
       "mean             9.842329           12.668243    9263.968713  \n",
       "std              5.086590            4.125338    5023.065394  \n",
       "min              2.000000            3.000000      12.000000  \n",
       "25%              5.000000            9.000000    5823.000000  \n",
       "50%              9.000000           14.000000    8047.000000  \n",
       "75%             15.000000           16.000000   12054.000000  \n",
       "max             18.000000           18.000000   23961.000000  "
      ]
     },
     "metadata": {},
     "output_type": "display_data"
    }
   ],
   "source": [
    "# Displaying basic information about the dataset\n",
    "print(\"\\nBasic Information of Dataset:\\n\")\n",
    "display(df.info())\n",
    "\n",
    "# Displaying the first few rows of the dataset to understand the data format\n",
    "print(\"\\nFirst 5 Rows of Dataset:\")\n",
    "display(df.head())\n",
    "\n",
    "# Displaying statistical summaries of the dataset to get insights into the numerical features\n",
    "print(\"\\nStatistical Summary of Numerical Features:\")\n",
    "display(df.describe())"
   ]
  },
  {
   "cell_type": "code",
   "execution_count": 4,
   "id": "ec662458",
   "metadata": {},
   "outputs": [
    {
     "data": {
      "text/plain": [
       "User_ID                       0\n",
       "Product_ID                    0\n",
       "Gender                        0\n",
       "Age                           0\n",
       "Occupation                    0\n",
       "City_Category                 0\n",
       "Stay_In_Current_City_Years    0\n",
       "Marital_Status                0\n",
       "Product_Category_1            0\n",
       "Product_Category_2            0\n",
       "Product_Category_3            0\n",
       "Purchase                      0\n",
       "dtype: int64"
      ]
     },
     "metadata": {},
     "output_type": "display_data"
    }
   ],
   "source": [
    "# Handling Missing Values\n",
    "df['Product_Category_2'].fillna(df['Product_Category_2'].mean(), inplace=True)\n",
    "df['Product_Category_3'].fillna(df['Product_Category_3'].mean(), inplace=True)\n",
    "\n",
    "display(df.isnull().sum())"
   ]
  },
  {
   "cell_type": "markdown",
   "id": "58118b6a",
   "metadata": {},
   "source": [
    "<div style=\"background-color: #305080; padding: 10px; border: 3px solid white;\">\n",
    "    <p style=\"text-align: center; color: white; font-size: 24px; margin: 0; position: relative; top: 50%; transform: translateY(-50%);\">\n",
    "        &ndash;&ndash;&ndash;&nbsp;Exploratory Data Analysis (EDA)&nbsp;&ndash;&ndash;&ndash;\n",
    "    </p>\n",
    "</div>"
   ]
  },
  {
   "cell_type": "code",
   "execution_count": 5,
   "id": "61db150d",
   "metadata": {},
   "outputs": [
    {
     "data": {
      "image/png": "[encoded data removed]",
      "text/plain": [
       "<Figure size 1296x360 with 1 Axes>"
      ]
     },
     "metadata": {
      "needs_background": "light"
     },
     "output_type": "display_data"
    }
   ],
   "source": [
    "# 'Purchase' distribution\n",
    "plt.figure(figsize=(18, 5))\n",
    "sns.histplot(df[\"Purchase\"], kde=True, color='red')\n",
    "plt.title(\"Purchase Distribution\")\n",
    "plt.xlim(0, 25000)\n",
    "plt.show()"
   ]
  },
  {
   "cell_type": "code",
   "execution_count": 6,
   "id": "3605c4c6",
   "metadata": {},
   "outputs": [
    {
     "data": {
      "image/png": "[encoded data removed]",
      "text/plain": [
       "<Figure size 1296x360 with 1 Axes>"
      ]
     },
     "metadata": {
      "needs_background": "light"
     },
     "output_type": "display_data"
    }
   ],
   "source": [
    "plt.figure(figsize=(18, 5))\n",
    "sns.boxplot(y=df[\"Purchase\"])\n",
    "plt.title(\"Purchase Boxplot\")\n",
    "plt.show()"
   ]
  },
  {
   "cell_type": "code",
   "execution_count": 7,
   "id": "13aaf69f",
   "metadata": {},
   "outputs": [
    {
     "name": "stdout",
     "output_type": "stream",
     "text": [
      "Skewness of Purchase: 0.6001400037087128\n",
      "Kurtosis of Purchase: -0.3383775655851702\n",
      "\n",
      "Descriptive Statistics of Purchase:\n",
      " count    550068.000000\n",
      "mean       9263.968713\n",
      "std        5023.065394\n",
      "min          12.000000\n",
      "25%        5823.000000\n",
      "50%        8047.000000\n",
      "75%       12054.000000\n",
      "max       23961.000000\n",
      "Name: Purchase, dtype: float64\n"
     ]
    }
   ],
   "source": [
    "# Skewness and Kurtosis of 'Purchase'\n",
    "print(\"Skewness of Purchase:\", df[\"Purchase\"].skew())\n",
    "print(\"Kurtosis of Purchase:\", df[\"Purchase\"].kurtosis())\n",
    "\n",
    "# Descriptive statistics of Purchase\n",
    "print(\"\\nDescriptive Statistics of Purchase:\\n\", df[\"Purchase\"].describe())"
   ]
  },
  {
   "cell_type": "code",
   "execution_count": 8,
   "id": "8c112900",
   "metadata": {},
   "outputs": [
    {
     "data": {
      "image/png": "[encoded data removed]",
      "text/plain": [
       "<Figure size 1296x360 with 1 Axes>"
      ]
     },
     "metadata": {
      "needs_background": "light"
     },
     "output_type": "display_data"
    }
   ],
   "source": [
    "# Log transformation for 'Purchase' to normalize the distribution\n",
    "plt.figure(figsize=(18, 5))\n",
    "df[\"log_Purchase\"] = np.log1p(df[\"Purchase\"])\n",
    "sns.histplot(df[\"log_Purchase\"], color='blue', kde=True)\n",
    "plt.title(\"Log-Transformed Purchase Distribution\")\n",
    "plt.xlim(6, 10)\n",
    "plt.show()"
   ]
  },
  {
   "cell_type": "markdown",
   "id": "6dff88e3",
   "metadata": {},
   "source": [
    "<div style=\"background-color: #305080; padding: 10px; border: 3px solid white;\">\n",
    "    <p style=\"text-align: center; color: white; font-size: 24px; margin: 0; position: relative; top: 50%; transform: translateY(-50%);\">\n",
    "        &ndash;&ndash;&ndash;&nbsp;Marital Status&nbsp;&ndash;&ndash;&ndash;\n",
    "    </p>\n",
    "</div>"
   ]
  },
  {
   "cell_type": "code",
   "execution_count": 9,
   "id": "b8d37422",
   "metadata": {},
   "outputs": [
    {
     "name": "stderr",
     "output_type": "stream",
     "text": [
      "/Users/greenwood/opt/anaconda3/lib/python3.8/site-packages/seaborn/_decorators.py:36: FutureWarning: Pass the following variable as a keyword arg: x. From version 0.12, the only valid positional argument will be `data`, and passing other arguments without an explicit keyword will result in an error or misinterpretation.\n",
      "  warnings.warn(\n"
     ]
    },
    {
     "data": {
      "image/png": "[encoded data removed]",
      "text/plain": [
       "<Figure size 1296x360 with 1 Axes>"
      ]
     },
     "metadata": {
      "needs_background": "light"
     },
     "output_type": "display_data"
    }
   ],
   "source": [
    "plt.figure(figsize=(18, 5))\n",
    "sns.countplot(df['Marital_Status'])\n",
    "plt.show()"
   ]
  },
  {
   "cell_type": "code",
   "execution_count": 10,
   "id": "957d3285",
   "metadata": {},
   "outputs": [
    {
     "name": "stdout",
     "output_type": "stream",
     "text": [
      "Mean Purchase Amount by Marital Status:\n",
      " Marital_Status\n",
      "0    9265.907619\n",
      "1    9261.174574\n",
      "Name: Purchase, dtype: float64\n"
     ]
    }
   ],
   "source": [
    "print(\"Mean Purchase Amount by Marital Status:\\n\", df.groupby(\"Marital_Status\").mean()[\"Purchase\"])"
   ]
  },
  {
   "cell_type": "code",
   "execution_count": 11,
   "id": "2f9050c2",
   "metadata": {},
   "outputs": [
    {
     "data": {
      "image/png": "[encoded data removed]",
      "text/plain": [
       "<Figure size 1296x360 with 1 Axes>"
      ]
     },
     "metadata": {
      "needs_background": "light"
     },
     "output_type": "display_data"
    }
   ],
   "source": [
    "plt.figure(figsize=(18, 5))\n",
    "df.groupby(\"Marital_Status\").mean()[\"Purchase\"].plot(kind='bar')\n",
    "plt.title(\"Marital_Status and Purchase Analysis\")\n",
    "plt.show()"
   ]
  },
  {
   "cell_type": "markdown",
   "id": "e1565382",
   "metadata": {},
   "source": [
    "<div style=\"background-color: #305080; padding: 10px; border: 3px solid white;\">\n",
    "    <p style=\"text-align: center; color: white; font-size: 24px; margin: 0; position: relative; top: 50%; transform: translateY(-50%);\">\n",
    "        &ndash;&ndash;&ndash;&nbsp;Occupation&nbsp;&ndash;&ndash;&ndash;\n",
    "    </p>\n",
    "</div>"
   ]
  },
  {
   "cell_type": "code",
   "execution_count": 12,
   "id": "b8dbbbe3",
   "metadata": {},
   "outputs": [
    {
     "name": "stderr",
     "output_type": "stream",
     "text": [
      "/Users/greenwood/opt/anaconda3/lib/python3.8/site-packages/seaborn/_decorators.py:36: FutureWarning: Pass the following variable as a keyword arg: x. From version 0.12, the only valid positional argument will be `data`, and passing other arguments without an explicit keyword will result in an error or misinterpretation.\n",
      "  warnings.warn(\n"
     ]
    },
    {
     "data": {
      "image/png": "[encoded data removed]",
      "text/plain": [
       "<Figure size 1296x360 with 1 Axes>"
      ]
     },
     "metadata": {
      "needs_background": "light"
     },
     "output_type": "display_data"
    }
   ],
   "source": [
    "plt.figure(figsize=(18, 5))\n",
    "sns.countplot(df['Occupation'])\n",
    "plt.show()"
   ]
  },
  {
   "cell_type": "code",
   "execution_count": 13,
   "id": "c22c7510",
   "metadata": {},
   "outputs": [
    {
     "data": {
      "text/html": [
       "<div>\n",
       "<style scoped>\n",
       "    .dataframe tbody tr th:only-of-type {\n",
       "        vertical-align: middle;\n",
       "    }\n",
       "\n",
       "    .dataframe tbody tr th {\n",
       "        vertical-align: top;\n",
       "    }\n",
       "\n",
       "    .dataframe thead th {\n",
       "        text-align: right;\n",
       "    }\n",
       "</style>\n",
       "<table border=\"1\" class=\"dataframe\">\n",
       "  <thead>\n",
       "    <tr style=\"text-align: right;\">\n",
       "      <th></th>\n",
       "      <th>Purchase</th>\n",
       "    </tr>\n",
       "    <tr>\n",
       "      <th>Occupation</th>\n",
       "      <th></th>\n",
       "    </tr>\n",
       "  </thead>\n",
       "  <tbody>\n",
       "    <tr>\n",
       "      <th>0</th>\n",
       "      <td>9124.428588</td>\n",
       "    </tr>\n",
       "    <tr>\n",
       "      <th>1</th>\n",
       "      <td>8953.193270</td>\n",
       "    </tr>\n",
       "    <tr>\n",
       "      <th>2</th>\n",
       "      <td>8952.481683</td>\n",
       "    </tr>\n",
       "    <tr>\n",
       "      <th>3</th>\n",
       "      <td>9178.593088</td>\n",
       "    </tr>\n",
       "    <tr>\n",
       "      <th>4</th>\n",
       "      <td>9213.980251</td>\n",
       "    </tr>\n",
       "    <tr>\n",
       "      <th>5</th>\n",
       "      <td>9333.149298</td>\n",
       "    </tr>\n",
       "    <tr>\n",
       "      <th>6</th>\n",
       "      <td>9256.535691</td>\n",
       "    </tr>\n",
       "    <tr>\n",
       "      <th>7</th>\n",
       "      <td>9425.728223</td>\n",
       "    </tr>\n",
       "    <tr>\n",
       "      <th>8</th>\n",
       "      <td>9532.592497</td>\n",
       "    </tr>\n",
       "    <tr>\n",
       "      <th>9</th>\n",
       "      <td>8637.743761</td>\n",
       "    </tr>\n",
       "    <tr>\n",
       "      <th>10</th>\n",
       "      <td>8959.355375</td>\n",
       "    </tr>\n",
       "    <tr>\n",
       "      <th>11</th>\n",
       "      <td>9213.845848</td>\n",
       "    </tr>\n",
       "    <tr>\n",
       "      <th>12</th>\n",
       "      <td>9796.640239</td>\n",
       "    </tr>\n",
       "    <tr>\n",
       "      <th>13</th>\n",
       "      <td>9306.351061</td>\n",
       "    </tr>\n",
       "    <tr>\n",
       "      <th>14</th>\n",
       "      <td>9500.702772</td>\n",
       "    </tr>\n",
       "    <tr>\n",
       "      <th>15</th>\n",
       "      <td>9778.891163</td>\n",
       "    </tr>\n",
       "    <tr>\n",
       "      <th>16</th>\n",
       "      <td>9394.464349</td>\n",
       "    </tr>\n",
       "    <tr>\n",
       "      <th>17</th>\n",
       "      <td>9821.478236</td>\n",
       "    </tr>\n",
       "    <tr>\n",
       "      <th>18</th>\n",
       "      <td>9169.655844</td>\n",
       "    </tr>\n",
       "    <tr>\n",
       "      <th>19</th>\n",
       "      <td>8710.627231</td>\n",
       "    </tr>\n",
       "    <tr>\n",
       "      <th>20</th>\n",
       "      <td>8836.494905</td>\n",
       "    </tr>\n",
       "  </tbody>\n",
       "</table>\n",
       "</div>"
      ],
      "text/plain": [
       "               Purchase\n",
       "Occupation             \n",
       "0           9124.428588\n",
       "1           8953.193270\n",
       "2           8952.481683\n",
       "3           9178.593088\n",
       "4           9213.980251\n",
       "5           9333.149298\n",
       "6           9256.535691\n",
       "7           9425.728223\n",
       "8           9532.592497\n",
       "9           8637.743761\n",
       "10          8959.355375\n",
       "11          9213.845848\n",
       "12          9796.640239\n",
       "13          9306.351061\n",
       "14          9500.702772\n",
       "15          9778.891163\n",
       "16          9394.464349\n",
       "17          9821.478236\n",
       "18          9169.655844\n",
       "19          8710.627231\n",
       "20          8836.494905"
      ]
     },
     "execution_count": 13,
     "metadata": {},
     "output_type": "execute_result"
    }
   ],
   "source": [
    "occupation = pd.DataFrame(df.groupby(\"Occupation\").mean()[\"Purchase\"])\n",
    "occupation"
   ]
  },
  {
   "cell_type": "code",
   "execution_count": 14,
   "id": "24a0bda1",
   "metadata": {},
   "outputs": [
    {
     "data": {
      "image/png": "[encoded data removed]",
      "text/plain": [
       "<Figure size 1296x360 with 1 Axes>"
      ]
     },
     "metadata": {
      "needs_background": "light"
     },
     "output_type": "display_data"
    }
   ],
   "source": [
    "occupation.plot(kind='bar', figsize=(18, 5))\n",
    "plt.title(\"Occupation and Purchase Analysis\")\n",
    "plt.show()"
   ]
  },
  {
   "cell_type": "markdown",
   "id": "78a22980",
   "metadata": {},
   "source": [
    "<div style=\"background-color: #305080; padding: 10px; border: 3px solid white;\">\n",
    "    <p style=\"text-align: center; color: white; font-size: 24px; margin: 0; position: relative; top: 50%; transform: translateY(-50%);\">\n",
    "        &ndash;&ndash;&ndash;&nbsp;City Category&nbsp;&ndash;&ndash;&ndash;\n",
    "    </p>\n",
    "</div>"
   ]
  },
  {
   "cell_type": "code",
   "execution_count": 15,
   "id": "300c1173",
   "metadata": {},
   "outputs": [
    {
     "data": {
      "image/png": "[encoded data removed]",
      "text/plain": [
       "<Figure size 1296x360 with 1 Axes>"
      ]
     },
     "metadata": {
      "needs_background": "light"
     },
     "output_type": "display_data"
    },
    {
     "name": "stdout",
     "output_type": "stream",
     "text": [
      "Mean Purchase Amount by City Category:\n",
      " City_Category\n",
      "A    8911.939216\n",
      "B    9151.300563\n",
      "C    9719.920993\n",
      "Name: Purchase, dtype: float64\n"
     ]
    }
   ],
   "source": [
    "plt.figure(figsize=(18, 5))\n",
    "sns.countplot(x='City_Category', data=df)\n",
    "plt.show()\n",
    "\n",
    "print(\"Mean Purchase Amount by City Category:\\n\", df.groupby(\"City_Category\").mean()[\"Purchase\"])\n"
   ]
  },
  {
   "cell_type": "markdown",
   "id": "7fcfc8eb",
   "metadata": {},
   "source": [
    "<div style=\"background-color: #305080; padding: 10px; border: 3px solid white;\">\n",
    "    <p style=\"text-align: center; color: white; font-size: 24px; margin: 0; position: relative; top: 50%; transform: translateY(-50%);\">\n",
    "        &ndash;&ndash;&ndash;&nbsp;Stay In Current City Years&nbsp;&ndash;&ndash;&ndash;\n",
    "    </p>\n",
    "</div>"
   ]
  },
  {
   "cell_type": "code",
   "execution_count": 16,
   "id": "455c38ae",
   "metadata": {},
   "outputs": [
    {
     "data": {
      "image/png": "[encoded data removed]",
      "text/plain": [
       "<Figure size 1296x360 with 1 Axes>"
      ]
     },
     "metadata": {
      "needs_background": "light"
     },
     "output_type": "display_data"
    },
    {
     "name": "stdout",
     "output_type": "stream",
     "text": [
      "Mean Purchase Amount by Stay In Current City Years:\n",
      " Stay_In_Current_City_Years\n",
      "0     9180.075123\n",
      "1     9250.145923\n",
      "2     9320.429810\n",
      "3     9286.904119\n",
      "4+    9275.598872\n",
      "Name: Purchase, dtype: float64\n"
     ]
    }
   ],
   "source": [
    "plt.figure(figsize=(18, 5))\n",
    "sns.countplot(x='Stay_In_Current_City_Years', data=df)\n",
    "plt.show()\n",
    "\n",
    "print(\"Mean Purchase Amount by Stay In Current City Years:\\n\", df.groupby(\"Stay_In_Current_City_Years\").mean()[\"Purchase\"])\n"
   ]
  },
  {
   "cell_type": "code",
   "execution_count": 17,
   "id": "5b867812",
   "metadata": {},
   "outputs": [
    {
     "name": "stdout",
     "output_type": "stream",
     "text": [
      "Index(['User_ID', 'Product_ID', 'Gender', 'Age', 'Occupation', 'City_Category',\n",
      "       'Stay_In_Current_City_Years', 'Marital_Status', 'Product_Category_1',\n",
      "       'Product_Category_2', 'Product_Category_3', 'Purchase', 'log_Purchase',\n",
      "       'Stay_In_Current_City_Years_0', 'Stay_In_Current_City_Years_1',\n",
      "       'Stay_In_Current_City_Years_2', 'Stay_In_Current_City_Years_3',\n",
      "       'Stay_In_Current_City_Years_4'],\n",
      "      dtype='object')\n"
     ]
    }
   ],
   "source": [
    "# Remplacement de '4+' par 4 et conversion en entier\n",
    "df['Stay_In_Current_City_Years'] = df['Stay_In_Current_City_Years'].replace('4+', 4).astype(int)\n",
    "\n",
    "# Création de variables dummy pour 'Stay_In_Current_City_Years'\n",
    "stay_dummies = pd.get_dummies(df['Stay_In_Current_City_Years'], prefix='Stay_In_Current_City_Years')\n",
    "\n",
    "# Concaténation des variables dummy au DataFrame original\n",
    "df = pd.concat([df, stay_dummies], axis=1)\n",
    "\n",
    "# Vérification des nouvelles colonnes ajoutées\n",
    "print(df.columns)\n"
   ]
  },
  {
   "cell_type": "code",
   "execution_count": 18,
   "id": "e44428fb",
   "metadata": {},
   "outputs": [
    {
     "name": "stdout",
     "output_type": "stream",
     "text": [
      "Mean Purchase Amount by Stay_In_Current_City_Years:\n",
      " Stay_In_Current_City_Years_0\n",
      "0    9277.090237\n",
      "1    9180.075123\n",
      "Name: Purchase, dtype: float64\n"
     ]
    }
   ],
   "source": [
    "print(\"Mean Purchase Amount by Stay_In_Current_City_Years:\\n\", df.groupby(\"Stay_In_Current_City_Years_0\").mean()[\"Purchase\"])"
   ]
  },
  {
   "cell_type": "code",
   "execution_count": 19,
   "id": "0cb7ad6c",
   "metadata": {},
   "outputs": [
    {
     "data": {
      "text/plain": [
       "<AxesSubplot:xlabel='Stay_In_Current_City_Years_0,Stay_In_Current_City_Years_1,Stay_In_Current_City_Years_2,Stay_In_Current_City_Years_3,Stay_In_Current_City_Years_4'>"
      ]
     },
     "execution_count": 19,
     "metadata": {},
     "output_type": "execute_result"
    },
    {
     "data": {
      "image/png": "[encoded data removed]",
      "text/plain": [
       "<Figure size 1296x360 with 1 Axes>"
      ]
     },
     "metadata": {
      "needs_background": "light"
     },
     "output_type": "display_data"
    }
   ],
   "source": [
    "plt.figure(figsize=(18, 5))\n",
    "stay_years_cols = ['Stay_In_Current_City_Years_0', 'Stay_In_Current_City_Years_1', 'Stay_In_Current_City_Years_2', 'Stay_In_Current_City_Years_3', 'Stay_In_Current_City_Years_4']\n",
    "df.groupby(stay_years_cols).mean()[\"Purchase\"].plot(kind='bar')"
   ]
  },
  {
   "cell_type": "markdown",
   "id": "75b2c656",
   "metadata": {},
   "source": [
    "<div style=\"background-color: #305080; padding: 10px; border: 3px solid white;\">\n",
    "    <p style=\"text-align: center; color: white; font-size: 24px; margin: 0; position: relative; top: 50%; transform: translateY(-50%);\">\n",
    "        &ndash;&ndash;&ndash;&nbsp;Age&nbsp;&ndash;&ndash;&ndash;\n",
    "    </p>\n",
    "</div>"
   ]
  },
  {
   "cell_type": "code",
   "execution_count": 20,
   "id": "6979faf6",
   "metadata": {},
   "outputs": [
    {
     "data": {
      "image/png": "[encoded data removed]",
      "text/plain": [
       "<Figure size 1296x360 with 1 Axes>"
      ]
     },
     "metadata": {
      "needs_background": "light"
     },
     "output_type": "display_data"
    }
   ],
   "source": [
    "plt.figure(figsize=(18, 5))\n",
    "sns.countplot(x='Age', data=df)\n",
    "plt.title('Distribution of Age')\n",
    "plt.xlabel('Different Categories of Age')\n",
    "plt.show()"
   ]
  },
  {
   "cell_type": "code",
   "execution_count": 21,
   "id": "d28e1a5e",
   "metadata": {},
   "outputs": [
    {
     "name": "stdout",
     "output_type": "stream",
     "text": [
      "Mean Purchase Amount by Age:\n",
      " Age\n",
      "0-17     8933.464640\n",
      "18-25    9169.663606\n",
      "26-35    9252.690633\n",
      "36-45    9331.350695\n",
      "46-50    9208.625697\n",
      "51-55    9534.808031\n",
      "55+      9336.280459\n",
      "Name: Purchase, dtype: float64\n"
     ]
    }
   ],
   "source": [
    "print(\"Mean Purchase Amount by Age:\\n\", df.groupby(\"Age\").mean()[\"Purchase\"])"
   ]
  },
  {
   "cell_type": "markdown",
   "id": "bec6631d",
   "metadata": {},
   "source": [
    "<div style=\"background-color: #305080; padding: 10px; border: 3px solid white;\">\n",
    "    <p style=\"text-align: center; color: white; font-size: 24px; margin: 0; position: relative; top: 50%; transform: translateY(-50%);\">\n",
    "        &ndash;&ndash;&ndash;&nbsp;Product Categories&nbsp;&ndash;&ndash;&ndash;\n",
    "    </p>\n",
    "</div>"
   ]
  },
  {
   "cell_type": "code",
   "execution_count": 22,
   "id": "11139a47",
   "metadata": {},
   "outputs": [
    {
     "data": {
      "image/png": "[encoded data removed]",
      "text/plain": [
       "<Figure size 1296x360 with 1 Axes>"
      ]
     },
     "metadata": {
      "needs_background": "light"
     },
     "output_type": "display_data"
    }
   ],
   "source": [
    "plt.figure(figsize=(18, 5))\n",
    "sns.countplot(x='Product_Category_1', data=df)\n",
    "plt.show()"
   ]
  },
  {
   "cell_type": "code",
   "execution_count": 23,
   "id": "ff2129e1",
   "metadata": {},
   "outputs": [
    {
     "name": "stdout",
     "output_type": "stream",
     "text": [
      "Mean Purchase Amount by Product_Category_1:\n",
      " Product_Category_1\n",
      "1     13606.218596\n",
      "2     11251.935384\n",
      "3     10096.705734\n",
      "4      2329.659491\n",
      "5      6240.088178\n",
      "6     15838.478550\n",
      "7     16365.689600\n",
      "8      7498.958078\n",
      "9     15537.375610\n",
      "10    19675.570927\n",
      "11     4685.268456\n",
      "12     1350.859894\n",
      "13      722.400613\n",
      "14    13141.625739\n",
      "15    14780.451828\n",
      "16    14766.037037\n",
      "17    10170.759516\n",
      "18     2972.864320\n",
      "19       37.041797\n",
      "20      370.481176\n",
      "Name: Purchase, dtype: float64\n"
     ]
    }
   ],
   "source": [
    "print(\"Mean Purchase Amount by Product_Category_1:\\n\", df.groupby('Product_Category_1').mean()['Purchase'])"
   ]
  },
  {
   "cell_type": "code",
   "execution_count": 24,
   "id": "b894766d",
   "metadata": {},
   "outputs": [
    {
     "data": {
      "image/png": "[encoded data removed]",
      "text/plain": [
       "<Figure size 1296x360 with 1 Axes>"
      ]
     },
     "metadata": {
      "needs_background": "light"
     },
     "output_type": "display_data"
    }
   ],
   "source": [
    "df.groupby('Product_Category_1').mean()['Purchase'].plot(kind='bar', figsize=(18, 5))\n",
    "plt.title(\"Product_Category_1 and Purchase Mean Analysis\")\n",
    "plt.show()"
   ]
  },
  {
   "cell_type": "code",
   "execution_count": 25,
   "id": "0d8ac813",
   "metadata": {},
   "outputs": [
    {
     "data": {
      "image/png": "[encoded data removed]",
      "text/plain": [
       "<Figure size 1296x360 with 1 Axes>"
      ]
     },
     "metadata": {
      "needs_background": "light"
     },
     "output_type": "display_data"
    }
   ],
   "source": [
    "plt.figure(figsize=(18, 5))\n",
    "sns.countplot(x='Product_Category_2', data=df)\n",
    "plt.gca().xaxis.set_major_formatter(FormatStrFormatter('%.2f'))\n",
    "plt.show()"
   ]
  },
  {
   "cell_type": "code",
   "execution_count": 26,
   "id": "ffff2de4",
   "metadata": {},
   "outputs": [
    {
     "data": {
      "image/png": "[encoded data removed]",
      "text/plain": [
       "<Figure size 1296x360 with 1 Axes>"
      ]
     },
     "metadata": {
      "needs_background": "light"
     },
     "output_type": "display_data"
    }
   ],
   "source": [
    "plt.figure(figsize=(18, 5))\n",
    "sns.countplot(x='Product_Category_3', data=df)\n",
    "plt.gca().xaxis.set_major_formatter(FormatStrFormatter('%.2f'))\n",
    "plt.show()"
   ]
  },
  {
   "cell_type": "code",
   "execution_count": 27,
   "id": "bed32b22",
   "metadata": {},
   "outputs": [
    {
     "data": {
      "image/png": "[encoded data removed]",
      "text/plain": [
       "<Figure size 1296x360 with 1 Axes>"
      ]
     },
     "metadata": {
      "needs_background": "light"
     },
     "output_type": "display_data"
    }
   ],
   "source": [
    "plt.figure(figsize=(18, 5))\n",
    "sns.countplot(x='City_Category', data=df)\n",
    "plt.title('Distribution of City Category')\n",
    "plt.xlabel('City Categories')\n",
    "plt.show()"
   ]
  },
  {
   "cell_type": "code",
   "execution_count": 28,
   "id": "2cfe1ef8",
   "metadata": {},
   "outputs": [
    {
     "name": "stdout",
     "output_type": "stream",
     "text": [
      "Mean Purchase Amount by City Category:\n",
      " City_Category\n",
      "A    8911.939216\n",
      "B    9151.300563\n",
      "C    9719.920993\n",
      "Name: Purchase, dtype: float64\n"
     ]
    }
   ],
   "source": [
    "print(\"Mean Purchase Amount by City Category:\\n\", df.groupby(\"City_Category\").mean()[\"Purchase\"])"
   ]
  },
  {
   "cell_type": "code",
   "execution_count": 29,
   "id": "a62466ec",
   "metadata": {},
   "outputs": [],
   "source": [
    "# Feature Engineering\n",
    "df = df.copy()\n",
    "df = pd.get_dummies(df, columns=['Stay_In_Current_City_Years'])"
   ]
  },
  {
   "cell_type": "code",
   "execution_count": 30,
   "id": "8ce917e4",
   "metadata": {},
   "outputs": [],
   "source": [
    "# Encoding Categorical Variables\n",
    "categorical_cols = ['Gender', 'Age', 'City_Category']\n",
    "le_dict = {}\n",
    "for col in categorical_cols:\n",
    "    le = LabelEncoder()\n",
    "    df[col] = le.fit_transform(df[col])\n",
    "    le_dict[col] = le"
   ]
  },
  {
   "cell_type": "code",
   "execution_count": 31,
   "id": "020330b3",
   "metadata": {},
   "outputs": [],
   "source": [
    "# Dropping irrelevant columns for modeling\n",
    "df.drop([\"User_ID\", \"Product_ID\"], axis=1, inplace=True)"
   ]
  },
  {
   "cell_type": "code",
   "execution_count": 32,
   "id": "a54b5cfd",
   "metadata": {},
   "outputs": [],
   "source": [
    "# Splitting data into training and test sets\n",
    "X = df.drop(\"Purchase\", axis=1)\n",
    "y = df['Purchase']\n",
    "X_train, X_test, y_train, y_test = train_test_split(X, y, test_size=0.3, random_state=42)\n",
    "\n"
   ]
  },
  {
   "cell_type": "markdown",
   "id": "e4fd5a31",
   "metadata": {},
   "source": [
    "<div style=\"background-color: #305080; padding: 10px; border: 3px solid white;\">\n",
    "    <p style=\"text-align: center; color: white; font-size: 24px; margin: 0; position: relative; top: 50%; transform: translateY(-50%);\">\n",
    "        &ndash;&ndash;&ndash;&nbsp;Model Training and Evaluation&nbsp;&ndash;&ndash;&ndash;\n",
    "    </p>\n",
    "</div>"
   ]
  },
  {
   "cell_type": "markdown",
   "id": "ef765150",
   "metadata": {},
   "source": [
    "### Linear Regression Model"
   ]
  },
  {
   "cell_type": "code",
   "execution_count": 33,
   "id": "01e44120",
   "metadata": {},
   "outputs": [],
   "source": [
    "linear_reg = LinearRegression()\n",
    "linear_reg.fit(X_train, y_train)\n",
    "predictions_lr = linear_reg.predict(X_test)"
   ]
  },
  {
   "cell_type": "code",
   "execution_count": 34,
   "id": "47c2dc11",
   "metadata": {},
   "outputs": [
    {
     "name": "stdout",
     "output_type": "stream",
     "text": [
      "\n",
      "Linear Regression Metrics:\n",
      "\n",
      "MAE: 1849.913\n",
      "MSE: 6441487.980\n",
      "RMSE: 2538.009\n",
      "R^2: 0.7444084738368935\n"
     ]
    }
   ],
   "source": [
    "# Evaluation Metrics for Linear Regression\n",
    "print(\"\\nLinear Regression Metrics:\\n\")\n",
    "print(f\"MAE: {mean_absolute_error(y_test, predictions_lr):.3f}\")\n",
    "print(f\"MSE: {mean_squared_error(y_test, predictions_lr):.3f}\")\n",
    "print(f\"RMSE: {sqrt(mean_squared_error(y_test, predictions_lr)):.3f}\")\n",
    "print(f\"R^2: {r2_score(y_test, predictions_lr)}\")\n"
   ]
  },
  {
   "cell_type": "markdown",
   "id": "da8c506b",
   "metadata": {},
   "source": [
    "### Decision Tree Regressor Model"
   ]
  },
  {
   "cell_type": "code",
   "execution_count": 35,
   "id": "33a74c78",
   "metadata": {},
   "outputs": [],
   "source": [
    "decision_tree = DecisionTreeRegressor(random_state=42)\n",
    "decision_tree.fit(X_train, y_train)\n",
    "predictions_dt = decision_tree.predict(X_test)"
   ]
  },
  {
   "cell_type": "code",
   "execution_count": 36,
   "id": "cc7c2c85",
   "metadata": {},
   "outputs": [
    {
     "name": "stdout",
     "output_type": "stream",
     "text": [
      "\n",
      "Decision Tree Regressor Metrics:\n",
      "\n",
      "MAE: 0.022\n",
      "MSE: 0.125\n",
      "RMSE: 0.353\n",
      "R^2: 0.9999999950532649\n"
     ]
    }
   ],
   "source": [
    "# Evaluation Metrics for Decision Tree Regressor\n",
    "print(\"\\nDecision Tree Regressor Metrics:\\n\")\n",
    "print(f\"MAE: {mean_absolute_error(y_test, predictions_dt):.3f}\")\n",
    "print(f\"MSE: {mean_squared_error(y_test, predictions_dt):.3f}\")\n",
    "print(f\"RMSE: {sqrt(mean_squared_error(y_test, predictions_dt)):.3f}\")\n",
    "print(f\"R^2: {r2_score(y_test, predictions_dt)}\")"
   ]
  },
  {
   "cell_type": "markdown",
   "id": "18d51f60",
   "metadata": {},
   "source": [
    "### Random Forest model"
   ]
  },
  {
   "cell_type": "code",
   "execution_count": 37,
   "id": "83254edb",
   "metadata": {},
   "outputs": [],
   "source": [
    "rf_model = RandomForestRegressor(n_estimators=100, random_state=42)\n",
    "rf_model.fit(X_train, y_train)\n",
    "rf_predictions = rf_model.predict(X_test)"
   ]
  },
  {
   "cell_type": "code",
   "execution_count": 38,
   "id": "1c7101ca",
   "metadata": {},
   "outputs": [
    {
     "name": "stdout",
     "output_type": "stream",
     "text": [
      "\n",
      "Random Forest Regressor Metrics:\n",
      "\n",
      "MAE: 0.016\n",
      "MSE: 0.053\n",
      "RMSE: 0.231\n",
      "R^2: 0.9999999978814438\n"
     ]
    }
   ],
   "source": [
    "# Display Random Forest evaluation metrics\n",
    "print(\"\\nRandom Forest Regressor Metrics:\\n\")\n",
    "print(f\"MAE: {mean_absolute_error(y_test, rf_predictions):.3f}\")\n",
    "print(f\"MSE: {mean_squared_error(y_test, rf_predictions):.3f}\")\n",
    "print(f\"RMSE: {sqrt(mean_squared_error(y_test, rf_predictions)):.3f}\")\n",
    "print(f\"R^2: {r2_score(y_test, rf_predictions)}\")"
   ]
  },
  {
   "cell_type": "markdown",
   "id": "27a038c7",
   "metadata": {},
   "source": [
    "### XGBoost Regressor"
   ]
  },
  {
   "cell_type": "code",
   "execution_count": 40,
   "id": "ee6d71a2",
   "metadata": {},
   "outputs": [],
   "source": [
    "def rename_duplicate_columns(df):\n",
    "    cols = pd.Series(df.columns)\n",
    "    for dup in cols[cols.duplicated()].unique():\n",
    "        cols[cols[cols == dup].index.values.tolist()] = [dup + '_' + str(i) if i != 0 else dup for i in range(sum(cols == dup))]\n",
    "    df.columns = cols\n",
    "\n",
    "# Apply the function to your DataFrame\n",
    "rename_duplicate_columns(X_train)\n",
    "rename_duplicate_columns(X_test)  # Make sure to apply the same changes to your test set to maintain consistency."
   ]
  },
  {
   "cell_type": "code",
   "execution_count": 42,
   "id": "f60069ce",
   "metadata": {},
   "outputs": [],
   "source": [
    "## XGBoost Regressor Model\n",
    "xgb_reg = XGBRegressor(objective='reg:squarederror', random_state=42)\n",
    "xgb_reg.fit(X_train, y_train)\n",
    "xgb_predictions = xgb_reg.predict(X_test)"
   ]
  },
  {
   "cell_type": "code",
   "execution_count": 43,
   "id": "c9306d30",
   "metadata": {},
   "outputs": [
    {
     "name": "stdout",
     "output_type": "stream",
     "text": [
      "\n",
      "XGBoost Regressor Metrics:\n",
      "\n",
      "MAE: 15.605\n",
      "MSE: 1116.467\n",
      "RMSE: 33.414\n",
      "R^2: 0.9999556997556502\n"
     ]
    }
   ],
   "source": [
    "# Display XGBoost evaluation metrics\n",
    "print(\"\\nXGBoost Regressor Metrics:\\n\")\n",
    "print(f\"MAE: {mean_absolute_error(y_test, xgb_predictions):.3f}\")\n",
    "print(f\"MSE: {mean_squared_error(y_test, xgb_predictions):.3f}\")\n",
    "print(f\"RMSE: {sqrt(mean_squared_error(y_test, xgb_predictions)):.3f}\")\n",
    "print(f\"R^2: {r2_score(y_test, xgb_predictions)}\")"
   ]
  },
  {
   "cell_type": "code",
   "execution_count": 45,
   "id": "5bb92357",
   "metadata": {},
   "outputs": [
    {
     "data": {
      "image/png": "[encoded data removed]",
      "text/plain": [
       "<Figure size 720x432 with 1 Axes>"
      ]
     },
     "metadata": {
      "needs_background": "light"
     },
     "output_type": "display_data"
    }
   ],
   "source": [
    "rmse_values = {\n",
    "    \"Linear Regression\": sqrt(mean_squared_error(y_test, predictions_lr)),\n",
    "    \"Decision Tree\": sqrt(mean_squared_error(y_test, predictions_dt)),\n",
    "    \"Random Forest\": sqrt(mean_squared_error(y_test, rf_predictions)),\n",
    "    \"XGBoost\": sqrt(mean_squared_error(y_test, xgb_predictions))\n",
    "}\n",
    "\n",
    "# Data for plotting\n",
    "models = list(rmse_values.keys())\n",
    "rmse_scores = list(rmse_values.values())\n",
    "\n",
    "# Creating the bar plot\n",
    "plt.figure(figsize=(10, 6))\n",
    "plt.bar(models, rmse_scores, color=['skyblue', 'orange', 'green', 'red'])\n",
    "plt.xlabel('Models')\n",
    "plt.ylabel('RMSE')\n",
    "plt.title('Model Performance Comparison (Lower is Better)')\n",
    "plt.show()\n"
   ]
  },
  {
   "cell_type": "code",
   "execution_count": 49,
   "id": "cfd28f24",
   "metadata": {},
   "outputs": [
    {
     "data": {
      "image/png": "[encoded data removed]",
      "text/plain": [
       "<Figure size 1080x720 with 4 Axes>"
      ]
     },
     "metadata": {
      "needs_background": "light"
     },
     "output_type": "display_data"
    }
   ],
   "source": [
    "import pandas as pd\n",
    "import numpy as np\n",
    "import matplotlib.pyplot as plt\n",
    "\n",
    "# Hypothetical evaluation metrics for each model\n",
    "metrics = {\n",
    "    \"Model\": [\"Linear Regression\", \"Decision Tree Regressor\", \"Random Forest Regressor\", \"XGBoost Regressor\"],\n",
    "    \"MAE\": [\n",
    "        mean_absolute_error(y_test, predictions_lr),\n",
    "        mean_absolute_error(y_test, predictions_dt),\n",
    "        mean_absolute_error(y_test, rf_predictions),\n",
    "        mean_absolute_error(y_test, xgb_predictions)\n",
    "    ],\n",
    "    \"MSE\": [\n",
    "        mean_squared_error(y_test, predictions_lr),\n",
    "        mean_squared_error(y_test, predictions_dt),\n",
    "        mean_squared_error(y_test, rf_predictions),\n",
    "        mean_squared_error(y_test, xgb_predictions)\n",
    "    ],\n",
    "    \"RMSE\": [\n",
    "        sqrt(mean_squared_error(y_test, predictions_lr)),\n",
    "        sqrt(mean_squared_error(y_test, predictions_dt)),\n",
    "        sqrt(mean_squared_error(y_test, rf_predictions)),\n",
    "        sqrt(mean_squared_error(y_test, xgb_predictions))\n",
    "    ],\n",
    "    \"R^2\": [\n",
    "        r2_score(y_test, predictions_lr),\n",
    "        r2_score(y_test, predictions_dt),\n",
    "        r2_score(y_test, rf_predictions),\n",
    "        r2_score(y_test, xgb_predictions)\n",
    "    ]\n",
    "}\n",
    "\n",
    "df_metrics = pd.DataFrame(metrics)\n",
    "df_metrics.set_index('Model', inplace=True)\n",
    "\n",
    "# Transpose the DataFrame for easier plotting\n",
    "df_metrics = df_metrics.T\n",
    "\n",
    "fig, axes = plt.subplots(nrows=2, ncols=2, figsize=(15, 10))\n",
    "fig.suptitle('Comparison of Model Evaluation Metrics', fontsize=16)\n",
    "\n",
    "metrics = ['MAE', 'MSE', 'RMSE', 'R^2']\n",
    "colors = ['skyblue', 'orange', 'green', 'red']\n",
    "for ax, metric in zip(axes.flatten(), metrics):\n",
    "    df_metrics.loc[metric].plot(kind='bar', ax=ax, color=colors)\n",
    "    ax.set_title(metric)\n",
    "    ax.set_ylabel(metric)\n",
    "    ax.set_xlabel('')\n",
    "    ax.tick_params(labelrotation=0)\n",
    "\n",
    "plt.tight_layout(rect=[0, 0.03, 1, 0.95])\n",
    "plt.show()"
   ]
  }
 ],
 "metadata": {
  "kernelspec": {
   "display_name": "Python 3",
   "language": "python",
   "name": "python3"
  },
  "language_info": {
   "codemirror_mode": {
    "name": "ipython",
    "version": 3
   },
   "file_extension": ".py",
   "mimetype": "text/x-python",
   "name": "python",
   "nbconvert_exporter": "python",
   "pygments_lexer": "ipython3",
   "version": "3.8.8"
  }
 },
 "nbformat": 4,
 "nbformat_minor": 5
}
